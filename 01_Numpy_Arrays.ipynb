{
 "cells": [
  {
   "cell_type": "markdown",
   "id": "2825352c-ee5b-40ea-8023-c548b281c800",
   "metadata": {},
   "source": [
    "<h1 style=\"margin-bottom: 75px;font-size:3.5 rem;color:#4c76ce;text-align:center;\">\n",
    "    NumPy Basics: NumPy Arrays</h1>\n",
    "    \n",
    "<img src=\"https://raw.githubusercontent.com/lajmcourses/Images/master/numpy.png\"\n",
    "     style=\"position:absolute;top:5px;left:25px; height:100px;width:auto;margin-bottom:5px;\">\n"
   ]
  },
  {
   "cell_type": "markdown",
   "id": "954ba9d8-e8f0-4b93-843d-b749ca221206",
   "metadata": {},
   "source": [
    "NumPy is the fundamental package for scientific computing in Python. It operates with multidimensional array objects.\n",
    "Using NumPy we can perform operations on arrays and matrices, including mathematical, logical, shape manipulation, sorting, linear algebra, and statistical operations.\n",
    "\n",
    "NumPy provides common data structures and algorithms designed to express complex mathematical operations using a concise syntax. The multidimensional array, **numpy.ndarray**, is internally based on C arrays. Apart from the performance benefits, this choice allows NumPy code to easily interface with the existing C and FORTRAN routines. NumPy helps bridge the gap between Python and the legacy code written using those languages.\n",
    "\n",
    "In this notebook we will cover the most common operations with NumPy arrays, we will be relying on the tutorial offerred on the NumPy's website, please check the reference below. \n",
    "\n",
    "**Reference:** https://numpy.org/doc/stable/user/absolute_beginners.html"
   ]
  },
  {
   "cell_type": "markdown",
   "id": "d6da1627-8558-4a0e-9a22-16dce4f5d981",
   "metadata": {},
   "source": [
    "## 1. NumPy Arrays\n",
    "\n",
    "NumPy gives us an enormous range of fast and efficient ways of creating arrays and manipulating numerical data inside them. Unlike Python arrays, NumPy arrays are homogenous. They are faster and more compact than Python lists. "
   ]
  },
  {
   "cell_type": "markdown",
   "id": "05f80a1f-5894-445b-a9f2-31cc528717fa",
   "metadata": {},
   "source": [
    "#### Key Properties of a NumPy Array\n",
    "\n",
    "- dtype: data type of array elements;\n",
    "- rank (axes): the number of dimensions of the array;\n",
    "- shape: size of the array along each dimensions;"
   ]
  },
  {
   "cell_type": "markdown",
   "id": "8fe0e8e8-f2f3-47ad-9258-1dd179585ed8",
   "metadata": {},
   "source": [
    "#### 1.1 Creating Arrays"
   ]
  },
  {
   "cell_type": "code",
   "execution_count": 97,
   "id": "6c4bdf18-663e-4d30-9f47-473e25a3b66b",
   "metadata": {},
   "outputs": [
    {
     "name": "stdout",
     "output_type": "stream",
     "text": [
      "\n",
      "1D Array: [1 2 3 4 5]\n",
      "Data type of arr1: int64\n",
      "Dimensions of arr1: 1\n",
      "Shape of arr1: (5,)\n"
     ]
    }
   ],
   "source": [
    "# 1D Array\n",
    "\n",
    "import numpy as np\n",
    "\n",
    "arr1 = np.array([1, 2, 3, 4, 5])\n",
    "print(\"\\n1D Array:\", arr1)\n",
    "print(\"Data type of arr1:\", arr1.dtype)\n",
    "print(\"Dimensions of arr1:\", arr1.ndim)\n",
    "print(\"Shape of arr1:\", arr1.shape)"
   ]
  },
  {
   "cell_type": "code",
   "execution_count": 98,
   "id": "1486d4db-9848-48cd-8e92-b5460dd0ea3a",
   "metadata": {},
   "outputs": [
    {
     "name": "stdout",
     "output_type": "stream",
     "text": [
      "\n",
      "2D Array:\n",
      " [[1 2 3]\n",
      " [4 5 6]\n",
      " [7 8 9]]\n",
      "\n",
      "Data type of arr2: int32\n",
      "Dimensions of arr2: 2\n",
      "Shape of arr2: (3, 3)\n"
     ]
    }
   ],
   "source": [
    "# 2D Array\n",
    "\n",
    "import numpy as np\n",
    "\n",
    "arr2 = np.array([\n",
    "    [1, 2, 3],\n",
    "    [4, 5, 6],\n",
    "    [7, 8, 9]\n",
    "], dtype=np.int32)\n",
    "\n",
    "print(\"\\n2D Array:\\n\", arr2)\n",
    "print(\"\\nData type of arr2:\", arr2.dtype)\n",
    "print(\"Dimensions of arr2:\", arr2.ndim)\n",
    "print(\"Shape of arr2:\", arr2.shape)"
   ]
  },
  {
   "cell_type": "code",
   "execution_count": 99,
   "id": "548fdd45-4965-4225-bed3-719a83f465b6",
   "metadata": {},
   "outputs": [
    {
     "name": "stdout",
     "output_type": "stream",
     "text": [
      "\n",
      "3D Array:\n",
      " [[[ 1  2]\n",
      "  [ 3  4]\n",
      "  [ 5  6]]\n",
      "\n",
      " [[ 5  6]\n",
      "  [ 7  8]\n",
      "  [ 9 10]]]\n",
      "\n",
      "Data type of arr3: int64\n",
      "Dimension of arr3: 3\n",
      "Shape of arr3: (2, 3, 2)\n"
     ]
    }
   ],
   "source": [
    "# 3D Array\n",
    "\n",
    "import numpy as np\n",
    "\n",
    "arr3 = np.array([\n",
    "    [[1, 2], [3, 4], [5, 6]],\n",
    "    [[5, 6], [7, 8], [9, 10]],\n",
    "])\n",
    "\n",
    "print(\"\\n3D Array:\\n\", arr3)\n",
    "print(\"\\nData type of arr3:\", arr3.dtype)\n",
    "print(\"Dimension of arr3:\", arr3.ndim)\n",
    "print(\"Shape of arr3:\", arr3.shape)"
   ]
  },
  {
   "cell_type": "markdown",
   "id": "e11b47cb-2f38-404e-97e5-e2e8ae82d552",
   "metadata": {},
   "source": [
    "#### 1.2 Indexing of Arrays\n",
    "\n",
    "In the previous section we created three arrays *arr1*, *arr2*, and *arr3*. In this section we will be accessing elements of the arrays."
   ]
  },
  {
   "cell_type": "code",
   "execution_count": 100,
   "id": "42e03714-930a-4789-98f6-d8e40a7afd0c",
   "metadata": {},
   "outputs": [
    {
     "name": "stdout",
     "output_type": "stream",
     "text": [
      "Accessing the very first element of arr1: 1\n",
      "Accessing the very first element of arr2: 1\n",
      "Accessing the very first element of arr3: 1\n"
     ]
    }
   ],
   "source": [
    "# Let's access the first element of each of the arrays\n",
    "print(\"Accessing the very first element of arr1:\", arr1[0])\n",
    "print(\"Accessing the very first element of arr2:\", arr2[0, 0])\n",
    "print(\"Accessing the very first element of arr3:\", arr3[0, 0, 0])"
   ]
  },
  {
   "cell_type": "code",
   "execution_count": 101,
   "id": "4f4c46ad-8443-4ffc-b264-02884ace10b0",
   "metadata": {},
   "outputs": [
    {
     "name": "stdout",
     "output_type": "stream",
     "text": [
      "Accessing number 5 in arr1: 5\n",
      "Accessing number 5 in arr2: 5\n",
      "Accessing number 5 in arr3: 5\n"
     ]
    }
   ],
   "source": [
    "# Let's access number 5 in each of the array\n",
    "print(\"Accessing number 5 in arr1:\", arr1[4])\n",
    "print(\"Accessing number 5 in arr2:\", arr2[1, 1])\n",
    "print(\"Accessing number 5 in arr3:\", arr3[0, 2, 0])"
   ]
  },
  {
   "cell_type": "code",
   "execution_count": 102,
   "id": "3c3c68b3-ef1a-42d5-810b-0800e7e73846",
   "metadata": {},
   "outputs": [
    {
     "name": "stdout",
     "output_type": "stream",
     "text": [
      "The first three elements of arr1: [1 2 3]\n",
      "The last three elements of arr1: [3 4 5]\n"
     ]
    }
   ],
   "source": [
    "# Let's access the first three and the last three elements of arr1\n",
    "print(\"The first three elements of arr1:\", arr1[:3])\n",
    "print(\"The last three elements of arr1:\", arr1[2:])"
   ]
  },
  {
   "cell_type": "code",
   "execution_count": 103,
   "id": "d40ddb00-1c49-4fda-8cb7-b88c9d527560",
   "metadata": {},
   "outputs": [
    {
     "name": "stdout",
     "output_type": "stream",
     "text": [
      "Accessing the second row of arr2: [4 5 6]\n"
     ]
    }
   ],
   "source": [
    "# Let's access the second row in arr2\n",
    "print(\"Accessing the second row of arr2:\", arr2[1])"
   ]
  },
  {
   "cell_type": "code",
   "execution_count": 104,
   "id": "c2da53f6-d663-49f7-b21e-9ec3dbb04852",
   "metadata": {},
   "outputs": [
    {
     "name": "stdout",
     "output_type": "stream",
     "text": [
      "Accessing [7, 8] in arr3: [7 8]\n"
     ]
    }
   ],
   "source": [
    "# Let's access the row containing [7, 8] in arr3\n",
    "print(\"Accessing [7, 8] in arr3:\", arr3[1,1,:])"
   ]
  },
  {
   "cell_type": "markdown",
   "id": "cfa8b16d-a882-43d6-a866-43f55c94c5e7",
   "metadata": {},
   "source": [
    "#### 1.3 Fancy Indexing\n",
    "\n",
    "NumPy allows to index an array using another NumPy array made of integers or booleans. This feature is called **fancy indexing**."
   ]
  },
  {
   "cell_type": "code",
   "execution_count": 105,
   "id": "a6005a07-3105-4d63-b008-2bd3322169a5",
   "metadata": {},
   "outputs": [
    {
     "name": "stdout",
     "output_type": "stream",
     "text": [
      "Array arr:\n",
      " [9 8 7 6 5 4 3 2 1 0]\n"
     ]
    },
    {
     "data": {
      "text/plain": [
       "array([9, 7, 5, 3])"
      ]
     },
     "execution_count": 105,
     "metadata": {},
     "output_type": "execute_result"
    }
   ],
   "source": [
    "# Fancy Indexing: 1D array\n",
    "\n",
    "arr = np.array([9, 8, 7, 6, 5, 4, 3, 2, 1, 0])\n",
    "print(\"Array arr:\\n\", arr)\n",
    "idx = np.array([0, 2, 4, 6])\n",
    "arr[idx]"
   ]
  },
  {
   "cell_type": "markdown",
   "id": "929fa41b-e1c7-4233-801f-28fb8513af78",
   "metadata": {},
   "source": [
    "The fancy indexing can be used on multidimensional arrays by passing an array for each dimension. "
   ]
  },
  {
   "cell_type": "code",
   "execution_count": 106,
   "id": "dd9a3725-1486-447b-afc0-bbf5e24c196e",
   "metadata": {},
   "outputs": [
    {
     "name": "stdout",
     "output_type": "stream",
     "text": [
      "\n",
      "Fancy indexing 1: [ 1  9 11]\n",
      "\n",
      "Fancy indexing 2: [ 1  9 11]\n",
      "\n",
      "Fancy indexing 3:\n",
      " [[ 1  7]\n",
      " [ 6 11]]\n"
     ]
    }
   ],
   "source": [
    "# Fancy Indexing: 2D array\n",
    "\n",
    "arr = np.array([\n",
    "    [1, 2, 3],\n",
    "    [4, 5, 6],\n",
    "    [7, 8, 9],\n",
    "    [10, 11, 12]\n",
    "])\n",
    "\n",
    "# We want to extract element 1, 9, and 11\n",
    "idx1 = np.array([0, 2, 3])\n",
    "idx2 = np.array([0, 2, 1])\n",
    "print(\"\\nFancy indexing 1:\", arr[idx1, idx2])\n",
    "\n",
    "# We can accomplish the same thing using Python lists as indices\n",
    "idx1 = [0, 2, 3]\n",
    "idx2 = [0, 2, 1]\n",
    "print(\"\\nFancy indexing 2:\", arr[idx1, idx2])\n",
    "\n",
    "# Index arrays can be multidimensional: lets build a 2D view [[1, 7], [6, 11]]\n",
    "idx1 = np.array([\n",
    "    [0, 2],\n",
    "    [1, 3]\n",
    "])\n",
    "\n",
    "idx2 = np.array([\n",
    "    [0, 0],\n",
    "    [2, 1]    \n",
    "])\n",
    "\n",
    "print(\"\\nFancy indexing 3:\\n\", arr[idx1, idx2])"
   ]
  },
  {
   "cell_type": "markdown",
   "id": "46b8bccb-db16-4eb5-a858-fad5092f5e44",
   "metadata": {},
   "source": [
    "#### 1.4 Filtering\n",
    "\n",
    "We can extract array values matching a certain criteria, this operation is called filtering."
   ]
  },
  {
   "cell_type": "code",
   "execution_count": 107,
   "id": "fbf9bc6e-d701-4981-9e35-032252edefd5",
   "metadata": {},
   "outputs": [
    {
     "name": "stdout",
     "output_type": "stream",
     "text": [
      "\n",
      "Array:\n",
      " [[ 1 -5  2]\n",
      " [ 8  4  1]\n",
      " [ 2 -1  0]]\n",
      "\n",
      "Filtering diagonal elements:\n",
      " [1 4 0]\n",
      "\n",
      "Non positive elements of array: [-5 -1  0]\n",
      "\n",
      "Array elements greater than 3: [8 4]\n"
     ]
    }
   ],
   "source": [
    "arr = np.array([\n",
    "    [1, -5, 2],\n",
    "    [8, 4, 1],\n",
    "    [2, -1, 0]\n",
    "])\n",
    "\n",
    "print(\"\\nArray:\\n\", arr)\n",
    "\n",
    "diag_filter = np.array([\n",
    "    [True, False, False],\n",
    "    [False, True, False],\n",
    "    [False, False, True]\n",
    "])\n",
    "\n",
    "print(\"\\nFiltering diagonal elements:\\n\", arr[diag_filter])\n",
    "\n",
    "non_positive = arr[arr <= 0]\n",
    "print(\"\\nNon positive elements of array:\", non_positive)\n",
    "\n",
    "greater_than_three = arr[arr > 3]\n",
    "print(\"\\nArray elements greater than 3:\", greater_than_three)"
   ]
  },
  {
   "cell_type": "markdown",
   "id": "b941b514-776f-4d95-a189-02afbc425361",
   "metadata": {},
   "source": [
    "#### 1.5 Array Creation Shorcuts: np.zeros, np.ones, np.empty"
   ]
  },
  {
   "cell_type": "code",
   "execution_count": 108,
   "id": "2c45339a-364f-474a-a958-dc0cc11d8709",
   "metadata": {},
   "outputs": [
    {
     "name": "stdout",
     "output_type": "stream",
     "text": [
      "Array of zeros:\n",
      " [[0. 0. 0.]\n",
      " [0. 0. 0.]\n",
      " [0. 0. 0.]]\n"
     ]
    }
   ],
   "source": [
    "# np.zeros, np.ones, np.empty\n",
    "\n",
    "# Creating a 3x3 matrix of zeros. np.ones and np.empty are used analogically\n",
    "array_of_zeros = np.zeros([3, 3])\n",
    "print(\"Array of zeros:\\n\", array_of_zeros)"
   ]
  },
  {
   "cell_type": "markdown",
   "id": "c98c3c54-81bf-468f-8dfc-107ab0af4cef",
   "metadata": {},
   "source": [
    "#### 1.6 Sequences: np.linspace and np.arange"
   ]
  },
  {
   "cell_type": "code",
   "execution_count": 109,
   "id": "e4e935db-e98e-4945-9c1a-041db419067d",
   "metadata": {},
   "outputs": [
    {
     "name": "stdout",
     "output_type": "stream",
     "text": [
      "Initial array:\n",
      " [0 1 2 3 4 5 6 7 8]\n",
      "Reshaped to 3x3 matrix:\n",
      " [[0 1 2]\n",
      " [3 4 5]\n",
      " [6 7 8]]\n"
     ]
    }
   ],
   "source": [
    "# Using np.arange\n",
    "\n",
    "import numpy as np\n",
    "\n",
    "a = np.arange(9)\n",
    "print(\"Initial array:\\n\", a)\n",
    "a = a.reshape(3, 3)\n",
    "print(\"Reshaped to 3x3 matrix:\\n\", a)"
   ]
  },
  {
   "cell_type": "code",
   "execution_count": 110,
   "id": "0138a433-e7bd-4ec3-a0fd-9b86baf23bb4",
   "metadata": {},
   "outputs": [
    {
     "name": "stdout",
     "output_type": "stream",
     "text": [
      "\n",
      "Linear sequence from 0 to 10:\n",
      " [ 0.  1.  2.  3.  4.  5.  6.  7.  8.  9. 10.]\n",
      "\n",
      "Sequence with from 0 to 20 with a step=2:\n",
      " [ 0  2  4  6  8 10 12 14 16 18 20]\n"
     ]
    }
   ],
   "source": [
    "# Using np.linspace\n",
    "\n",
    "import numpy as np\n",
    "\n",
    "arr1 = np.linspace(0, 10, 11)\n",
    "print(\"\\nLinear sequence from 0 to 10:\\n\", arr1)\n",
    "\n",
    "arr2 = np.arange(0, 22, 2)\n",
    "print(\"\\nSequence with from 0 to 20 with a step=2:\\n\", arr2)"
   ]
  },
  {
   "cell_type": "markdown",
   "id": "0304db56-87a0-4762-b9af-ab1137b6c4d1",
   "metadata": {},
   "source": [
    "#### 1.7 Sorting Arrays"
   ]
  },
  {
   "cell_type": "code",
   "execution_count": 111,
   "id": "9247e153-1f1b-4b15-9721-53ea05792f9d",
   "metadata": {},
   "outputs": [
    {
     "name": "stdout",
     "output_type": "stream",
     "text": [
      "\n",
      "Initial array:\n",
      " [39 27 53 45 37 82 96 52 72 90]\n",
      "Sorted array:\n",
      " [[-5  1  2]\n",
      " [ 1  4  8]\n",
      " [-1  0  2]]\n",
      "\n",
      "Initial array:\n",
      " [[10  4  8  5]\n",
      " [ 3  1 12  4]\n",
      " [ 7  5  1 11]]\n",
      "Sorted by element's order:\n",
      " [ 1  1  3  4  4  5  5  7  8 10 11 12]\n",
      "Sorted by rows:\n",
      " [[ 3  1  1  4]\n",
      " [ 7  4  8  5]\n",
      " [10  5 12 11]]\n",
      "Sorted by columns:\n",
      " [[ 4  5  8 10]\n",
      " [ 1  3  4 12]\n",
      " [ 1  5  7 11]]\n"
     ]
    }
   ],
   "source": [
    "# Sorting\n",
    "\n",
    "# Example 1\n",
    "arr1 = np.array([39, 27, 53, 45, 37, 82, 96, 52, 72, 90])\n",
    "print(\"\\nInitial array:\\n\", arr1)\n",
    "arr1_sorted = np.sort(arr)\n",
    "print(\"Sorted array:\\n\", arr1_sorted)\n",
    "\n",
    "# Example 2\n",
    "arr2 = np.array([\n",
    "    [10, 4, 8, 5],\n",
    "    [3, 1, 12, 4],\n",
    "    [7, 5, 1, 11]\n",
    "])\n",
    "print(\"\\nInitial array:\\n\", arr2)\n",
    "arr2_sorted_by_element = np.sort(arr2, axis=None)\n",
    "print(\"Sorted by element's order:\\n\", arr2_sorted_by_element)\n",
    "arr2_sorted_by_rows = np.sort(arr2, axis=0)\n",
    "print(\"Sorted by rows:\\n\", arr2_sorted_by_rows)\n",
    "arr2_sorted_by_columns = np.sort(arr2, axis=1)\n",
    "print(\"Sorted by columns:\\n\", arr2_sorted_by_columns)"
   ]
  },
  {
   "cell_type": "markdown",
   "id": "6671cc1e-8d56-48c7-9ef5-d10401cfd3c1",
   "metadata": {},
   "source": [
    "#### 1.8 Reshaping and Flattening Multidimensional Arrays\n",
    "\n",
    "#### Array Flattening\n",
    "\n",
    "There are two methods to flatten an array: *.flatten()* and *.ravel()*. The primary difference between two is that the new array created using *.ravel()* is actually a reference to the parent array (i.e. a \"view\"). This means that any changes to the new array will affect the parent array as well. Since *.ravel()* does not create a copy, it is memory efficient.\n",
    "\n",
    "When you use *.flatten()* you are creating a new copy of the array, any changes to the newly created array won't change the parrent array."
   ]
  },
  {
   "cell_type": "code",
   "execution_count": 112,
   "id": "357ac2c3-6bd9-431a-946e-59ca3029a8b9",
   "metadata": {},
   "outputs": [
    {
     "name": "stdout",
     "output_type": "stream",
     "text": [
      "\n",
      "Initial array x:\n",
      " [[ 1  2  3  4]\n",
      " [ 5  6  7  8]\n",
      " [ 9 10 11 12]]\n",
      "\n",
      "Flattened array: [ 1  2  3  4  5  6  7  8  9 10 11 12]\n",
      "\n",
      "Modified x_flat: [-111    2    3    4    5    6    7    8    9   10   11   12]\n",
      "\n",
      "Initial array x left unchanged:\n",
      " [[ 1  2  3  4]\n",
      " [ 5  6  7  8]\n",
      " [ 9 10 11 12]]\n",
      "\n",
      "Flattened array x_ravel: [ 1  2  3  4  5  6  7  8  9 10 11 12]\n",
      "\n",
      " Base array x:\n",
      " [[ 0  0  0  0]\n",
      " [ 5  6  7  8]\n",
      " [ 9 10 11 12]]\n",
      "\n",
      " x_flat array is unmodified: [-111    2    3    4    5    6    7    8    9   10   11   12]\n",
      "\n",
      " x_ravel array changed together with x: [ 0  0  0  0  5  6  7  8  9 10 11 12]\n"
     ]
    }
   ],
   "source": [
    "import numpy as np\n",
    "\n",
    "# Initial Array\n",
    "x = np.array(\n",
    "    [\n",
    "        [1, 2, 3, 4],\n",
    "        [5, 6, 7, 8],\n",
    "        [9, 10, 11, 12]\n",
    "    ]\n",
    ")\n",
    "\n",
    "print(\"\\nInitial array x:\\n\", x)\n",
    "\n",
    "# Flattening array using .flatten\n",
    "x_flat = x.flatten()\n",
    "print(\"\\nFlattened array:\", x_flat)\n",
    "\n",
    "# Changes to x_flat will not affext x\n",
    "x_flat[0] = -111\n",
    "print(\"\\nModified x_flat:\", x_flat)\n",
    "print(\"\\nInitial array x left unchanged:\\n\", x)\n",
    "\n",
    "# Flattening array using .ravel()\n",
    "x_ravel = x.ravel()\n",
    "print(\"\\nFlattened array x_ravel:\", x_ravel)\n",
    "\n",
    "\n",
    "# Modification of x affects x_ravel, but doesn't affect x_flat\n",
    "x[0] = 0\n",
    "\n",
    "print(\"\\n Base array x:\\n\", x)\n",
    "print(\"\\n x_flat array is unmodified:\", x_flat)\n",
    "print(\"\\n x_ravel array changed together with x:\", x_ravel)"
   ]
  },
  {
   "cell_type": "markdown",
   "id": "29db8a04-fb73-4331-82f8-c0e142c4594b",
   "metadata": {},
   "source": [
    "#### Reshaping Arrays\n",
    "\n",
    "Arrays can be reshaped using *.reshape()* method."
   ]
  },
  {
   "cell_type": "code",
   "execution_count": 113,
   "id": "f8ae48f3-5fb5-49ae-95ab-4eb7e0342653",
   "metadata": {},
   "outputs": [
    {
     "name": "stdout",
     "output_type": "stream",
     "text": [
      "\n",
      "Initial array 3x4:\n",
      " [[ 1  2  3  4]\n",
      " [ 5  6  7  8]\n",
      " [ 9 10 11 12]]\n",
      "\n",
      "Reshaped array 4x3:\n",
      " [[ 1  2  3]\n",
      " [ 4  5  6]\n",
      " [ 7  8  9]\n",
      " [10 11 12]]\n",
      "\n",
      "Due to modification of y, array x also was modified:\n",
      " [[1000    2    3    4]\n",
      " [   5    6    7    8]\n",
      " [   9   10   11   12]]\n"
     ]
    }
   ],
   "source": [
    "# Reshaping with .reshape()\n",
    "\n",
    "x = np.array(\n",
    "    [\n",
    "        [1, 2, 3, 4],\n",
    "        [5, 6, 7, 8],\n",
    "        [9, 10, 11, 12]\n",
    "    ]\n",
    ")\n",
    "\n",
    "print(\"\\nInitial array 3x4:\\n\", x)\n",
    "\n",
    "y = x.reshape([4, 3])\n",
    "print(\"\\nReshaped array 4x3:\\n\", y)\n",
    "\n",
    "# Reshaped array is a view of the initial array\n",
    "y[0, 0] = 1000\n",
    "print(\"\\nDue to modification of y, array x also was modified:\\n\", x)"
   ]
  },
  {
   "cell_type": "markdown",
   "id": "251cec60-2db3-484b-977f-b68daa829c85",
   "metadata": {},
   "source": [
    "#### 1.9 Generating Random Numbers\n"
   ]
  },
  {
   "cell_type": "code",
   "execution_count": 114,
   "id": "4d521eef-bd7d-47ea-8cea-cb7373fbfb1e",
   "metadata": {},
   "outputs": [
    {
     "name": "stdout",
     "output_type": "stream",
     "text": [
      "\n",
      "Random integer: 28\n",
      "\n",
      "Random array 3 x 2:\n",
      " [[69 80]\n",
      " [46 95]\n",
      " [86 46]]\n"
     ]
    }
   ],
   "source": [
    "# Random Integers\n",
    "\n",
    "import numpy as np\n",
    "\n",
    "random_integer = np.random.randint(1, 100)\n",
    "print(\"\\nRandom integer:\", random_integer)\n",
    "\n",
    "random_array = np.random.randint(1, 100, size=(3, 2))\n",
    "print(\"\\nRandom array 3 x 2:\\n\", random_array)"
   ]
  },
  {
   "cell_type": "code",
   "execution_count": 115,
   "id": "bdd29d93-5a15-4797-9970-123347d13fdd",
   "metadata": {},
   "outputs": [
    {
     "data": {
      "image/png": "[encoded data removed]",
      "text/plain": [
       "<Figure size 1400x500 with 2 Axes>"
      ]
     },
     "metadata": {},
     "output_type": "display_data"
    }
   ],
   "source": [
    "# Random values from standard normal distribution\n",
    "\n",
    "import numpy as np\n",
    "from matplotlib import pyplot as plt\n",
    "\n",
    "# Setting RNG seed: we want to generate same data every time we re-run our code\n",
    "rng = np.random.default_rng(123)\n",
    "\n",
    "# Generating random numbers\n",
    "data = rng.standard_normal(500)\n",
    "\n",
    "# Plotting data distribution histogram and density\n",
    "nbins = 10\n",
    "plt.figure(figsize=(14, 5))\n",
    "plt.subplots_adjust(wspace=0.25, hspace=1)\n",
    "\n",
    "## Histogram Plot\n",
    "plt.subplot(1, 2, 1)\n",
    "plt.title(\"\\nDistribution Histogram Plot\\n\")\n",
    "plt.ylabel(\"\\nFrequency\\n\")\n",
    "plt.xlabel(\"\\nValue\\n\")\n",
    "plt.hist(data, bins=nbins, rwidth=0.95)\n",
    "\n",
    "## Density Plot\n",
    "plt.subplot(1, 2, 2)\n",
    "plt.title(\"\\nDistribution Density Plot\\n\")\n",
    "plt.ylabel(\"\\nDensity\\n\")\n",
    "plt.xlabel(\"\\nValue\\n\")\n",
    "plt.hist(data, bins=nbins, rwidth=0.95)\n",
    "\n",
    "plt.show()"
   ]
  },
  {
   "cell_type": "code",
   "execution_count": null,
   "id": "b0fc39d9-8bd7-4ebf-8072-7b263939686b",
   "metadata": {},
   "outputs": [],
   "source": []
  }
 ],
 "metadata": {
  "kernelspec": {
   "display_name": "Python 3 (ipykernel)",
   "language": "python",
   "name": "python3"
  },
  "language_info": {
   "codemirror_mode": {
    "name": "ipython",
    "version": 3
   },
   "file_extension": ".py",
   "mimetype": "text/x-python",
   "name": "python",
   "nbconvert_exporter": "python",
   "pygments_lexer": "ipython3",
   "version": "3.10.12"
  }
 },
 "nbformat": 4,
 "nbformat_minor": 5
}
