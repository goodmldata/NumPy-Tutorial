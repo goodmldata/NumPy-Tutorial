{
 "cells": [
  {
   "cell_type": "markdown",
   "id": "14ccd2a0",
   "metadata": {},
   "source": [
    "<h1 style=\"margin-bottom: 75px;font-size:3.5 rem;color:#4c76ce;text-align:center;\">\n",
    "    NumPy Basics: Linear Algebra</h1>\n",
    "    \n",
    "<img src=\"https://raw.githubusercontent.com/lajmcourses/Images/master/numpy.png\"\n",
    "     style=\"position:absolute;top:5px;left:25px; height:100px;width:auto;margin-bottom:5px;\">"
   ]
  },
  {
   "cell_type": "markdown",
   "id": "6640cb91",
   "metadata": {},
   "source": [
    "# 3. Linear Algebra with NumPy"
   ]
  },
  {
   "cell_type": "markdown",
   "id": "504d8d0e",
   "metadata": {},
   "source": [
    "## 3.1 Vector Norm\n",
    "\n",
    "Vector norm is a measure of vector distance.\n",
    "\n",
    "**L1 norm** is also known as Manhattan Distance. Suppose that X is a vector, X = (2, 5), then \n",
    "\n",
    "$ L1(X) = || X ||_1 = |2| + |5| = 7 $\n",
    "\n"
   ]
  },
  {
   "cell_type": "code",
   "execution_count": 154,
   "id": "bcfcbb3e-0f1c-4386-ad5d-d166278afd07",
   "metadata": {},
   "outputs": [
    {
     "name": "stdout",
     "output_type": "stream",
     "text": [
      "x: [2 5]\n",
      "Norm L1(x): 7.0\n"
     ]
    }
   ],
   "source": [
    "# L1 norm\n",
    "\n",
    "import numpy as np\n",
    "from numpy.linalg import norm\n",
    "\n",
    "\n",
    "x = np.array([2, 5])\n",
    "L1_x = norm(x, 1)\n",
    "\n",
    "print(\"x:\", x)\n",
    "print(\"Norm L1(x):\", L1_x)"
   ]
  },
  {
   "cell_type": "markdown",
   "id": "b53c0227-b85c-427c-9eb5-5b44557b99e1",
   "metadata": {},
   "source": [
    "**L2 norm** is the most popular norm, it is also known as Euclidean norm, it represents the shortest distance from one point to another.\n",
    "Suppose that X is a vector, X = (3, 4), then \n",
    "\n",
    "$ L2(X) = || X ||_2 = \\sqrt{3^2 + 4^2} = \\sqrt{25} = 5 $"
   ]
  },
  {
   "cell_type": "code",
   "execution_count": 155,
   "id": "a1727174-b300-494e-abef-fe6d82f6b513",
   "metadata": {},
   "outputs": [
    {
     "name": "stdout",
     "output_type": "stream",
     "text": [
      "x: [3 4]\n",
      "Norm L2(x): 5.0\n"
     ]
    }
   ],
   "source": [
    "# L2 norm\n",
    "\n",
    "import numpy as np\n",
    "from numpy.linalg import norm\n",
    "\n",
    "\n",
    "x = np.array([3, 4])\n",
    "L2_x = norm(x, 2)\n",
    "\n",
    "print(\"x:\", x)\n",
    "print(\"Norm L2(x):\", L2_x)"
   ]
  },
  {
   "cell_type": "markdown",
   "id": "8cd3ff66-3e03-4693-85b6-3b83ede19043",
   "metadata": {},
   "source": [
    "**L-infinity norm** returns the largest magnitude among the elements of the vector. Suppose X = (-1, 8, 4, 10] then\n",
    "\n",
    "$ L\\infty(X) = || X ||_\\infty = 10 $"
   ]
  },
  {
   "cell_type": "code",
   "execution_count": 156,
   "id": "20ba227d-45ca-4179-810c-816b52b47f87",
   "metadata": {},
   "outputs": [
    {
     "name": "stdout",
     "output_type": "stream",
     "text": [
      "Norm L-infinity(x): 10.0\n"
     ]
    }
   ],
   "source": [
    "# L-infinity norm\n",
    "\n",
    "import numpy as np\n",
    "from numpy.linalg import norm\n",
    "\n",
    "x = np.array([-1, 8, 4, 10])\n",
    "Linf_x = norm(x, np.inf)\n",
    "print(\"Norm L-infinity(x):\", Linf_x)"
   ]
  },
  {
   "cell_type": "markdown",
   "id": "ad59dd93-e75f-48c1-9667-4eb514e2ff62",
   "metadata": {},
   "source": [
    "#### Vector Norm Calculation Example"
   ]
  },
  {
   "cell_type": "code",
   "execution_count": 157,
   "id": "71ee4df4",
   "metadata": {},
   "outputs": [
    {
     "name": "stdout",
     "output_type": "stream",
     "text": [
      "\n",
      "Vector v1: [ 1  0 -1  3  2]\n",
      "\n",
      "Norm L2 of v1: 3.872983346207417\n",
      "\n",
      "Norm L1 of v1: 7.0\n",
      "\n",
      "Norm L-inf of v1: 3.0\n"
     ]
    }
   ],
   "source": [
    "import numpy as np\n",
    "from numpy.linalg import norm\n",
    "\n",
    "v1 = np.array([1, 0, -1, 3, 2])\n",
    "print(\"\\nVector v1:\", v1)\n",
    "\n",
    "# L2 Norm\n",
    "norm_l2 = norm(v1, 2)\n",
    "print(\"\\nNorm L2 of v1:\", norm_l2)\n",
    "\n",
    "# L1 Norm (or Manhattan Distance)\n",
    "norm_l1 = norm(v1, 1)\n",
    "print(\"\\nNorm L1 of v1:\", norm_l1)\n",
    "\n",
    "# L-inf Norm\n",
    "norm_linf = norm(v1, np.inf)\n",
    "print(\"\\nNorm L-inf of v1:\", norm_linf)"
   ]
  },
  {
   "cell_type": "markdown",
   "id": "d5983092",
   "metadata": {},
   "source": [
    "## 3.2 Scalar Multiplication of Vectors"
   ]
  },
  {
   "cell_type": "code",
   "execution_count": 158,
   "id": "a2951f63",
   "metadata": {},
   "outputs": [
    {
     "name": "stdout",
     "output_type": "stream",
     "text": [
      "\n",
      "Vector v1: [ 1  2 -3  2 -1]\n",
      "\n",
      "Vector v2: [ 1  0  0 -4  2]\n",
      "\n",
      "v1 x v1 =  -9\n"
     ]
    }
   ],
   "source": [
    "import numpy as np\n",
    "\n",
    "# Create vectors\n",
    "v1 = np.array([1, 2, -3, 2, -1])\n",
    "v2 = np.array([1, 0, 0, -4, 2])\n",
    "\n",
    "print(\"\\nVector v1:\", v1)\n",
    "print(\"\\nVector v2:\", v2)\n",
    "\n",
    "# Scalar multiplication of vectors\n",
    "res = np.dot(v1, v2)\n",
    "print(\"\\nv1 x v1 = \", res)"
   ]
  },
  {
   "cell_type": "markdown",
   "id": "298d8346",
   "metadata": {},
   "source": [
    "## Exercise 0:"
   ]
  },
  {
   "cell_type": "markdown",
   "id": "8fd13c70",
   "metadata": {},
   "source": [
    "a) Create vector v1 = [1, -4, 10, 11, -5, 0, -2]\n",
    "\n",
    "b) Create vector v2 = [3, 4, -12, 1, 1, 0, 15]\n",
    "\n",
    "c) Calculate L2 norm for both of the vectors\n",
    "\n",
    "d) Calculate the norm L1 for both of the vectors\n",
    "\n",
    "e) Calculate the norm L-infinity for both of the vectors\n",
    "\n",
    "f) Find the scalar product of v1 and v2"
   ]
  },
  {
   "cell_type": "code",
   "execution_count": 159,
   "id": "8e1fc5bc-88c7-40b6-ac4b-8e67de08a57a",
   "metadata": {},
   "outputs": [
    {
     "name": "stdout",
     "output_type": "stream",
     "text": [
      "\n",
      "v1: [ 1 -4 10 11 -5  0 -2]\n",
      "\n",
      "v2: [  3   4 -12   1   1   0  15]\n",
      "\n",
      "Norm L2 of v1: 16.34013463836819\n",
      "\n",
      "Norm L2 of v2: 19.8997487421324\n",
      "\n",
      "Norm L1 of v1: 33.0\n",
      "\n",
      "Norm L1 of v2: 36.0\n",
      "\n",
      "Norm L-infinity of v1: 11.0\n",
      "\n",
      "Norm L-infinity of v2: 15.0\n",
      "\n",
      "v1 x v2 = -157\n"
     ]
    }
   ],
   "source": [
    "# Solution to Exercise 0\n",
    "\n",
    "import numpy as np\n",
    "from numpy.linalg import norm\n",
    "\n",
    "# (a)\n",
    "v1 = np.array([1, -4, 10, 11, -5, 0, -2])\n",
    "print(\"\\nv1:\", v1)\n",
    "\n",
    "# (b)\n",
    "v2 = np.array([3, 4, -12, 1, 1, 0, 15])\n",
    "print(\"\\nv2:\", v2)\n",
    "\n",
    "# (c)\n",
    "\n",
    "l2_v1 = norm(v1, 2)\n",
    "print(\"\\nNorm L2 of v1:\", l2_v1)\n",
    "\n",
    "l2_v2 = norm(v2, 2)\n",
    "print(\"\\nNorm L2 of v2:\", l2_v2)\n",
    "\n",
    "# (d)\n",
    "\n",
    "l1_v1 = norm(v1, 1)\n",
    "print(\"\\nNorm L1 of v1:\", l1_v1)\n",
    "\n",
    "l1_v2 = norm(v2, 1)\n",
    "print(\"\\nNorm L1 of v2:\", l1_v2)\n",
    "\n",
    "# (f)\n",
    "\n",
    "linf_v1 = norm(v1, np.inf)\n",
    "print(\"\\nNorm L-infinity of v1:\", linf_v1)\n",
    "\n",
    "linf_v2 = norm(v2, np.inf)\n",
    "print(\"\\nNorm L-infinity of v2:\", linf_v2)\n",
    "\n",
    "# (f)\n",
    "sp = np.dot(v1, v2)\n",
    "print(\"\\nv1 x v2 =\", sp)"
   ]
  },
  {
   "cell_type": "markdown",
   "id": "687e0c28",
   "metadata": {},
   "source": [
    "## 3.3 Matrix Norm\n",
    "\n",
    "The norm of a matrix is a real number which is a measure of the magnitude of the matrix.\n",
    "\n",
    "**L1 norm of a matrix**\n",
    "\n",
    "L1 norm of a matrix returns the maximum absolute column sum.\n",
    "\n",
    "$|| A ||_1 = max_{1<=j<=n} (\\sum^n_{i=1}|a_{ij}|)$"
   ]
  },
  {
   "cell_type": "code",
   "execution_count": 160,
   "id": "146e149b-15f0-43d6-a293-64fca023c87b",
   "metadata": {},
   "outputs": [
    {
     "name": "stdout",
     "output_type": "stream",
     "text": [
      "A:\n",
      " [[ 1 -7]\n",
      " [-2 -3]]\n",
      "Norm L1 of A: 10.0\n"
     ]
    }
   ],
   "source": [
    "# L1 norm of a matrix\n",
    "from numpy.linalg import norm\n",
    "\n",
    "A = np.array([\n",
    "    [1, -7],\n",
    "    [-2, -3]\n",
    "])\n",
    "\n",
    "L1_A = norm(A, 1)\n",
    "print(\"A:\\n\", A)\n",
    "print(\"Norm L1 of A:\", L1_A)"
   ]
  },
  {
   "cell_type": "markdown",
   "id": "8f4eddb7-9d5f-4c2c-a224-2c905ebb42aa",
   "metadata": {},
   "source": [
    "**L2 norm of a matrix (Euclidean norm)**\n",
    "\n",
    "L2 norm of a matrix is the square root of the sum of all the squares.\n",
    "\n",
    "$|| A ||_2 = \\sqrt{\\sum^n_{i=1}\\sum^n_{j=1} (a_{ij})^2}$"
   ]
  },
  {
   "cell_type": "code",
   "execution_count": 161,
   "id": "e957c364-68f5-4a9b-8035-53fe746fe250",
   "metadata": {},
   "outputs": [
    {
     "name": "stdout",
     "output_type": "stream",
     "text": [
      "A:\n",
      " [[ 1 -7]\n",
      " [-2 -3]]\n",
      "Norm L2 of A: 7.937253933193772\n"
     ]
    }
   ],
   "source": [
    "# L2 norm of a matrix\n",
    "\n",
    "from numpy.linalg import norm\n",
    "\n",
    "A = np.array([\n",
    "    [1, -7],\n",
    "    [-2, -3]\n",
    "])\n",
    "\n",
    "L2_A = norm(A, 'fro')\n",
    "print(\"A:\\n\", A)\n",
    "print(\"Norm L2 of A:\", L2_A)"
   ]
  },
  {
   "cell_type": "markdown",
   "id": "15949546-beb2-4410-aaee-610a373e9e5b",
   "metadata": {},
   "source": [
    "**L-infinity norm of a matrix**\n",
    "\n",
    "L-infinity norm returns the maximum absolute row sum.\n",
    "\n",
    "$ || A ||\\infty = max_{1<=i<=n} (\\sum^n_{j=1} |a_{ij}|) $"
   ]
  },
  {
   "cell_type": "code",
   "execution_count": 162,
   "id": "69642d9a-3359-4748-92f8-3450ac642eb2",
   "metadata": {},
   "outputs": [
    {
     "name": "stdout",
     "output_type": "stream",
     "text": [
      "A:\n",
      " [[ 1 -7]\n",
      " [-2 -3]]\n",
      "Norm L-infinity of A: 8.0\n"
     ]
    }
   ],
   "source": [
    "# L-infinity norm of a matrix\n",
    "\n",
    "from numpy.linalg import norm\n",
    "\n",
    "A = np.array([\n",
    "    [1, -7],\n",
    "    [-2, -3]\n",
    "])\n",
    "\n",
    "Linf_A = norm(A, np.inf)\n",
    "print(\"A:\\n\", A)\n",
    "print(\"Norm L-infinity of A:\", Linf_A)"
   ]
  },
  {
   "cell_type": "markdown",
   "id": "29390289-381a-4ebb-9fc4-971bd4dfd9c8",
   "metadata": {},
   "source": [
    "#### Matrix Norm Calculation Example"
   ]
  },
  {
   "cell_type": "code",
   "execution_count": 163,
   "id": "c4eeafd7",
   "metadata": {},
   "outputs": [
    {
     "name": "stdout",
     "output_type": "stream",
     "text": [
      "\n",
      "Matrix m1:\n",
      " [[ 1  2  3  4  5]\n",
      " [ 1  0  0 -1  3]\n",
      " [-2  4  5  0  0]] \n",
      "\n",
      "\n",
      "Norm L2 of m1: 10.535653752852738\n",
      "\n",
      "Norm L1 of m1: 8.0\n",
      "\n",
      "Norm L-inf of m1: 15.0\n"
     ]
    }
   ],
   "source": [
    "import numpy as np\n",
    "from numpy.linalg import norm\n",
    "\n",
    "m1 = np.array([\n",
    "    [1, 2, 3, 4, 5],\n",
    "    [1, 0, 0, -1, 3],\n",
    "    [-2, 4, 5, 0, 0]\n",
    "])\n",
    "\n",
    "print(\"\\nMatrix m1:\\n\", m1, \"\\n\")\n",
    "\n",
    "\n",
    "# L2 Norm\n",
    "norm_l2 = norm(m1, \"fro\")\n",
    "print(\"\\nNorm L2 of m1:\", norm_l2)\n",
    "\n",
    "# L1 Norm \n",
    "norm_l1 = norm(m1, 1)\n",
    "print(\"\\nNorm L1 of m1:\", norm_l1)\n",
    "\n",
    "# L-inf Norm\n",
    "norm_linf = norm(m1, np.inf)\n",
    "print(\"\\nNorm L-inf of m1:\", norm_linf)\n"
   ]
  },
  {
   "cell_type": "markdown",
   "id": "4da23dd5",
   "metadata": {},
   "source": [
    "## 3.4 Multiplication of Matrices"
   ]
  },
  {
   "cell_type": "code",
   "execution_count": 164,
   "id": "ee7e84e7",
   "metadata": {},
   "outputs": [
    {
     "name": "stdout",
     "output_type": "stream",
     "text": [
      "\n",
      "Matrix m1:\n",
      " [[1 7]\n",
      " [2 3]\n",
      " [5 0]]\n",
      "\n",
      "Matrix m2:\n",
      " [[2 6 3 1]\n",
      " [1 2 3 4]]\n",
      "\n",
      "m3 = m1 x m2:\n",
      " [[ 9 20 24 29]\n",
      " [ 7 18 15 14]\n",
      " [10 30 15  5]]\n"
     ]
    }
   ],
   "source": [
    "import numpy as np \n",
    "\n",
    "# Create matrices\n",
    "m1 = np.array([\n",
    "    [1, 7], \n",
    "    [2, 3], \n",
    "    [5, 0]\n",
    "])\n",
    "\n",
    "m2 = np.array([\n",
    "    [2, 6, 3, 1], \n",
    "    [1, 2, 3, 4]\n",
    "])\n",
    "\n",
    "print(\"\\nMatrix m1:\\n\", m1)\n",
    "print(\"\\nMatrix m2:\\n\", m2)\n",
    "\n",
    "# Multiplying matrices\n",
    "m3 = np.dot(m1, m2)\n",
    "print(\"\\nm3 = m1 x m2:\\n\", m3)"
   ]
  },
  {
   "cell_type": "markdown",
   "id": "c278e6e3",
   "metadata": {},
   "source": [
    "## 3.5 Determinant of a Matrix"
   ]
  },
  {
   "cell_type": "code",
   "execution_count": 165,
   "id": "fe3030b1",
   "metadata": {},
   "outputs": [
    {
     "name": "stdout",
     "output_type": "stream",
     "text": [
      "\n",
      "Matrix m:\n",
      " [[0 2 1 3]\n",
      " [3 2 8 1]\n",
      " [1 0 0 3]\n",
      " [0 3 2 1]]\n",
      "\n",
      "Determinant of m: -38.0\n"
     ]
    }
   ],
   "source": [
    "import numpy as np\n",
    "from numpy.linalg import det\n",
    "\n",
    "# Create matrix\n",
    "m = np.array([\n",
    "    [0, 2, 1, 3],\n",
    "    [3, 2, 8, 1],\n",
    "    [1, 0, 0, 3],\n",
    "    [0, 3, 2, 1]\n",
    "])\n",
    "\n",
    "print(\"\\nMatrix m:\\n\", m)\n",
    "\n",
    "dm = det(m)\n",
    "\n",
    "print(\"\\nDeterminant of m:\", round(dm, 4))\n"
   ]
  },
  {
   "cell_type": "markdown",
   "id": "8cc63547",
   "metadata": {},
   "source": [
    "## Exercise 1:\n"
   ]
  },
  {
   "cell_type": "markdown",
   "id": "f8102d4e",
   "metadata": {},
   "source": [
    "a) Create matrix M = [[0, 2, 1, 3], [3, 2, 8, 1], [1, 0, 0, 3], [0, 3, 2, 1]].\n",
    "\n",
    "b) Find norms L2, L1, and L-infinity of the matrix\n",
    "\n",
    "c) Find the determinant of M.\n",
    "\n",
    "d) Create 4 x 4 identity matrix I\n",
    "\n",
    "e) Multiplay M by I and show that the result is M\n",
    "\n",
    "f) Create matrix A = [[1, 2], [-1, 4], [2, 0], [-9, 7]]\n",
    "\n",
    "g) Multiply matrices: M x A, transposed A x A"
   ]
  },
  {
   "cell_type": "code",
   "execution_count": 166,
   "id": "681a45ac-7eb9-45d7-b573-51d40a820a1f",
   "metadata": {},
   "outputs": [
    {
     "name": "stdout",
     "output_type": "stream",
     "text": [
      "\n",
      "Matrix M:\n",
      " [[0 2 1 3]\n",
      " [3 2 8 1]\n",
      " [1 0 0 3]\n",
      " [0 3 2 1]]\n",
      "\n",
      "L2 norm of M: 9.511345872776696\n",
      "\n",
      "L1 norm of M: 11.0\n",
      "\n",
      "L-infinity norm of M: 14.0\n",
      "\n",
      "Determinant of M: -38.000000000000014\n",
      "\n",
      "Identity matrix 4x4:\n",
      " [[1 0 0 0]\n",
      " [0 1 0 0]\n",
      " [0 0 1 0]\n",
      " [0 0 0 1]]\n",
      "\n",
      "M x I =\n",
      " [[0 2 1 3]\n",
      " [3 2 8 1]\n",
      " [1 0 0 3]\n",
      " [0 3 2 1]]\n",
      "\n",
      "Matrix A =\n",
      " [[ 1  2]\n",
      " [-1  4]\n",
      " [ 2  0]\n",
      " [-9  7]]\n",
      "\n",
      "M x A = [[-27  29]\n",
      " [  8  21]\n",
      " [-26  23]\n",
      " [ -8  19]]\n",
      "\n",
      "A.T x M = [[ -1 -27 -25  -1]\n",
      " [ 12  33  48  17]]\n"
     ]
    }
   ],
   "source": [
    "## Solution to Exercise 1\n",
    "import numpy as np\n",
    "from numpy.linalg import det, norm\n",
    "\n",
    "# (a)\n",
    "M = np.array([\n",
    "    [0, 2, 1, 3],\n",
    "    [3, 2, 8, 1],\n",
    "    [1, 0, 0, 3],\n",
    "    [0, 3, 2, 1]\n",
    "])\n",
    "\n",
    "print(\"\\nMatrix M:\\n\", M)\n",
    "\n",
    "# (b)\n",
    "l2_M = norm(M, 2)\n",
    "print(\"\\nL2 norm of M:\", l2_M)\n",
    "\n",
    "l1_M = norm(M, 1)\n",
    "print(\"\\nL1 norm of M:\", l1_M)\n",
    "\n",
    "linf_M = norm(M, np.inf)\n",
    "print(\"\\nL-infinity norm of M:\", linf_M)\n",
    "\n",
    "# (c)\n",
    "print(\"\\nDeterminant of M:\", det(M))\n",
    "\n",
    "# (d)\n",
    "I = np.identity(4, dtype=np.int64)\n",
    "print(\"\\nIdentity matrix 4x4:\\n\", I)\n",
    "\n",
    "# (e)\n",
    "print(\"\\nM x I =\\n\", np.dot(M, I))\n",
    "\n",
    "# (f)\n",
    "A = np.array([\n",
    "    [1, 2],\n",
    "    [-1, 4],\n",
    "    [2, 0],\n",
    "    [-9, 7]\n",
    "])\n",
    "print(\"\\nMatrix A =\\n\", A)\n",
    "\n",
    "# (g)\n",
    "print(\"\\nM x A =\", np.dot(M, A))\n",
    "print(\"\\nA.T x M =\", np.dot(A.T, M))"
   ]
  },
  {
   "cell_type": "markdown",
   "id": "bda754aa",
   "metadata": {},
   "source": [
    "## 3.6 Rank of a Matrix\n",
    "\n",
    "A rank of an *m x n* matrix *M* is the number of linearly independent columns or rows of A,\n",
    "and it is denoted as *rank(A)*.\n",
    "\n",
    "A matrix has full rank if *rank(A) = min(m, n)*."
   ]
  },
  {
   "cell_type": "markdown",
   "id": "eb81ce33",
   "metadata": {},
   "source": [
    "## 3.7 Inverse Matrix\n",
    "\n",
    "The inverse of a square matrix M is a matrix of the same size, N, such that, M x N = I.\n",
    "The inverse of a matrix is analogous to an inverse number: 3 x 1/3 = 1.\n",
    "\n",
    "A matrix is said to be invertible if it has an inverse.\n",
    "\n",
    "The inverse of a matrix is unique, that is for an invertible matrix, there is only one inverse for that matrix.\n",
    "\n",
    "If M is a square matrix, its inverse is denoted as $M^{-1}$"
   ]
  },
  {
   "cell_type": "code",
   "execution_count": 167,
   "id": "d10fc22d",
   "metadata": {},
   "outputs": [
    {
     "name": "stdout",
     "output_type": "stream",
     "text": [
      "\n",
      "Matrix m:\n",
      " [[ 0  2  1  3]\n",
      " [ 3  2  8  1]\n",
      " [ 1  0 -3  3]\n",
      " [ 0  1  1  1]]\n",
      "\n",
      "Determinant of m:\n",
      " -5.0\n",
      "\n",
      "The rank of A:\n",
      " 4\n",
      "\n",
      "The inverse of m:\n",
      " [[-3.   0.   1.   6. ]\n",
      " [-5.  -0.4  1.2 11.8]\n",
      " [ 2.   0.2 -0.6 -4.4]\n",
      " [ 3.   0.2 -0.6 -6.4]]\n"
     ]
    }
   ],
   "source": [
    "import numpy as np\n",
    "from numpy.linalg import inv, matrix_rank\n",
    "\n",
    "# Create matrix\n",
    "m = np.array([\n",
    "    [0, 2, 1, 3],\n",
    "    [3, 2, 8, 1],\n",
    "    [1, 0, -3, 3],\n",
    "    [0, 1, 1, 1]\n",
    "])\n",
    "\n",
    "print(\"\\nMatrix m:\\n\", m)\n",
    "\n",
    "# Check if matrix determinant is not zero\n",
    "print(\"\\nDeterminant of m:\\n\", round(det(m), 4))\n",
    "\n",
    "# Or check if the rank of the matrix is 4\n",
    "mrank = matrix_rank(m)\n",
    "print(\"\\nThe rank of A:\\n\", mrank)\n",
    "\n",
    "# Matrix m inverse\n",
    "m_inv = inv(m)\n",
    "print(\"\\nThe inverse of m:\\n\", m_inv)"
   ]
  },
  {
   "cell_type": "markdown",
   "id": "76efdbb0",
   "metadata": {},
   "source": [
    "## Exercise 2:"
   ]
  },
  {
   "cell_type": "markdown",
   "id": "1b10521d",
   "metadata": {},
   "source": [
    "a) Create matrix mp = [[0, 1, 0], [0, 0, 0], [1, 0, 1]]\n",
    "\n",
    "b) Show that mp has a determinant equal to 0, and hence this matrix has no inverse."
   ]
  },
  {
   "cell_type": "code",
   "execution_count": 168,
   "id": "87123926-b06d-4014-a648-b8334872f493",
   "metadata": {},
   "outputs": [
    {
     "name": "stdout",
     "output_type": "stream",
     "text": [
      "\n",
      "Determinant of mp: 0.0\n",
      "\n",
      "Rank of mp: 2\n",
      "\n",
      "Matrix mp doesn't have an inverse, it is a singular matrix.\n"
     ]
    }
   ],
   "source": [
    "# Solution to Exercise 2\n",
    "\n",
    "# (a) The matrix has an inverse if the matrix has a full rank (matrix determinant is no 0)\n",
    "\n",
    "import numpy as np\n",
    "from numpy.linalg import det, inv, matrix_rank\n",
    "\n",
    "\n",
    "mp = np.array([\n",
    "    [0, 1, 0],\n",
    "    [0, 0, 0],\n",
    "    [1, 0, 1]\n",
    "])\n",
    "\n",
    "print(\"\\nDeterminant of mp:\", det(mp))\n",
    "print(\"\\nRank of mp:\", matrix_rank(mp))\n",
    "\n",
    "is_invertible = matrix_rank(mp) == min(mp.shape)\n",
    "\n",
    "if is_invertible:\n",
    "    print(\"\\nMatrix mp is invertible.\")\n",
    "else:\n",
    "    print(f\"\\nMatrix mp doesn't have an inverse, it is a singular matrix.\")\n",
    "\n"
   ]
  },
  {
   "cell_type": "markdown",
   "id": "da539f6d",
   "metadata": {},
   "source": [
    "## Exercise 3:\n",
    "\n",
    "a) Create matrix A = [[1, 0, 1], [-4, 3, 0], [1, 0, -2]]\n",
    "\n",
    "b) Compute the rank of the matrix A\n",
    "\n",
    "c) Find the determinant of A\n",
    "\n",
    "d) Find the inverse of A\n",
    "\n",
    "e) Multiply A by the inverse of A, and explain the result"
   ]
  },
  {
   "cell_type": "code",
   "execution_count": 169,
   "id": "b816604e-6335-4bbf-b5ad-f1d6b77a281d",
   "metadata": {},
   "outputs": [
    {
     "name": "stdout",
     "output_type": "stream",
     "text": [
      "\n",
      "Matrix A:\n",
      " [[ 1  0  1]\n",
      " [-4  3  0]\n",
      " [ 1  0 -2]]\n",
      "\n",
      "Rank of A: 3\n",
      "A has a full rank: True\n",
      "\n",
      "Determinant of A: -8.999999999999998\n",
      "\n",
      "Inverse of A:\n",
      " [[ 0.66666667 -0.          0.33333333]\n",
      " [ 0.88888889  0.33333333  0.44444444]\n",
      " [ 0.33333333 -0.         -0.33333333]]\n",
      "\n",
      "A x inv(A) =\n",
      " [[ 1.00000000e+00  0.00000000e+00  0.00000000e+00]\n",
      " [-1.11022302e-16  1.00000000e+00  0.00000000e+00]\n",
      " [ 1.11022302e-16  0.00000000e+00  1.00000000e+00]]\n"
     ]
    }
   ],
   "source": [
    "# Solution to Exercise 3\n",
    "\n",
    "import numpy as np\n",
    "from numpy.linalg import det, inv, matrix_rank\n",
    "\n",
    "\n",
    "# (a)\n",
    "A = np.array([\n",
    "    [1, 0, 1],\n",
    "    [-4, 3, 0],\n",
    "    [1, 0, -2]\n",
    "])\n",
    "\n",
    "print(\"\\nMatrix A:\\n\", A)\n",
    "\n",
    "# (b)\n",
    "print(\"\\nRank of A:\", matrix_rank(A))\n",
    "print(\"A has a full rank:\", matrix_rank(A) == min(A.shape))\n",
    "\n",
    "# (c)\n",
    "print(\"\\nDeterminant of A:\", det(A))\n",
    "\n",
    "# (d)\n",
    "print(\"\\nInverse of A:\\n\", inv(A))\n",
    "\n",
    "# (e): when we multiply a matrix by its inverse we get an identity matrix\n",
    "print(\"\\nA x inv(A) =\\n\", np.dot(A, inv(A)))\n"
   ]
  },
  {
   "cell_type": "markdown",
   "id": "8fdef684",
   "metadata": {},
   "source": [
    "## 3.8 Solving Linear Equations Systems\n",
    "\n",
    "A linear equation is an equality of the form\n",
    "\n",
    "$$ \\sum_{i=1}^{n} a_i x_i = y $$\n",
    "\n",
    "\n",
    "A system of linear equations is a set of linear equations that share the same variables, for example:\n",
    "\n",
    "$$ a_{11} x_1 + a_{12} x_2 + a_{13} x_3 = y_1 $$\n",
    "$$ a_{21} x_1 + a_{22} x_2 + a_{23} x_3 = y_2 $$\n",
    "$$ a_{31} x_1 + a_{32} x_2 + a_{33} x_3 = y_3 $$\n",
    "\n",
    "The system of linear equations can be writtend in the matrix form:\n",
    "\n",
    "$$ A x = y $$\n",
    "\n",
    "where\n",
    "\n",
    "$ A = \n",
    "\\begin{bmatrix}\n",
    "    a_{11} & a_{12} & a_{13} \\\\\n",
    "    a_{21} & a_{22} & a_{23} \\\\\n",
    "    a_{31} & a_{32} & a_{33} \\\\\n",
    "\\end{bmatrix}\n",
    "$\n",
    "\n",
    "$ x = [x_1, x_2, x_3] $\n",
    "\n",
    "$ y = [y_1, y_2, y_3] $"
   ]
  },
  {
   "cell_type": "markdown",
   "id": "3b4042c9",
   "metadata": {},
   "source": [
    "## Exercise 4"
   ]
  },
  {
   "cell_type": "markdown",
   "id": "0d1164e1",
   "metadata": {},
   "source": [
    "Put the equations system below into matrix form:\n",
    "\n",
    "$$\n",
    "\\begin {cases}\n",
    "  4x + 3y - 5z = 2 \\\\\n",
    "  -2x - 4y + 5z = 5 \\\\\n",
    "  7x + 8y      = -3 \\\\\n",
    "  x +  2z      = 1 \\\\\n",
    "  9x + y - 6z   = 6 \\\\ \n",
    "\\end {cases}\n",
    "$$\n"
   ]
  },
  {
   "cell_type": "code",
   "execution_count": 170,
   "id": "c0a1230c-9aec-4097-a7b6-0a0c0c20f14b",
   "metadata": {},
   "outputs": [
    {
     "name": "stdout",
     "output_type": "stream",
     "text": [
      "\n",
      "Matrix A:\n",
      " [[ 4  3 -5]\n",
      " [-2 -4  5]\n",
      " [ 1  0  2]\n",
      " [ 9  1 -6]]\n",
      "\n",
      "Vector y: [ 2  5 -3  1  6]\n"
     ]
    }
   ],
   "source": [
    "# Solution to Exercise 4\n",
    "\n",
    "# X = [x, y, z] - vector of unknown variables\n",
    "\n",
    "# A: coefficient matrix\n",
    "A = np.array([\n",
    "    [4, 3, -5],\n",
    "    [-2, -4, 5],\n",
    "    [1, 0, 2],\n",
    "    [9, 1, -6]\n",
    "])\n",
    "\n",
    "print(\"\\nMatrix A:\\n\", A)\n",
    "\n",
    "Y = np.array([2, 5, -3, 1, 6])\n",
    "print(\"\\nVector y:\", Y)"
   ]
  },
  {
   "cell_type": "markdown",
   "id": "924cea34",
   "metadata": {},
   "source": [
    "## 3.9 Solutions to Systems of Linear Equations"
   ]
  },
  {
   "cell_type": "markdown",
   "id": "d12aa88e",
   "metadata": {},
   "source": [
    "Consider a system of linear equations in matrix form, *Ax = y*, where *A* is an *m × n* matrix. \n",
    "Recall that this means there are *m* equations and *n* unknowns in our system. \n",
    "A solution to this system of linear equations is a vector *x* of size *n*. There are three possibilities:\n",
    "\n",
    "1) The linear system has no solutions for *x*.\n",
    "\n",
    "2) There is one unique solution *x* that solves the system of linear equations.\n",
    "\n",
    "3) There are infinitely many solutions for *x* solving the linear equations system.\n",
    "\n",
    "\n",
    "**Case 1: There is no solutions for x**\n",
    "\n",
    "If *rank([A, y]) = rank(A) + 1* then y is linearly independent from the columns of A. \n",
    "Therefore, because *y* is not in the range of *A*, by definition there cannot\n",
    "be an *x* that satisfies the equation. Thus, comparing *rank([A, y])* and *rank(A)* provides an easy\n",
    "way to check if there are no solutions to a system of linear equations.\n",
    "\n",
    "\n",
    "**Case 2: There is unique solution for x**\n",
    "\n",
    "If *rank([A, y]) = rank(A)*, then y can be written as a linear combination of the columns of *A*, \n",
    "and there is at least one solution for the matrix equation. For there to be only one solution, \n",
    "*rank(A) = n* must also be true. In other words, the number of equations must be exactly equal to the number of unknowns.\n",
    "\n",
    "\n",
    "**Case 3: There are infinitely many solutions for x**\n",
    "\n",
    "If *rank([A, y]) = rank(A)*, then *y* is in the range of *A*, and there is at least one solution for the matrix equation; however, if *rank(A) < n*, then there are infinitely many solutions. \n"
   ]
  },
  {
   "cell_type": "markdown",
   "id": "ca023f25",
   "metadata": {},
   "source": [
    "## Exercise 5"
   ]
  },
  {
   "cell_type": "markdown",
   "id": "4ba42d8a",
   "metadata": {},
   "source": [
    "How many solutions does the system have:\n",
    "    \n",
    "a) \n",
    "$$\n",
    "\\begin {cases}\n",
    " 4x + 3y - 5z = 2   \\\\\n",
    "-2x - 4y + 5z = 5  \\\\\n",
    " 7x + 8y      = -3 \\\\\n",
    "  x +  2z      = 1 \\\\\n",
    " 9x + y - 6z   = 6\n",
    "\\end {cases}\n",
    "$$\n",
    "\n",
    "b) \n",
    "$$\n",
    "\\begin {cases}\n",
    " x_1 +2x_2 + x_3 + 3x_4 = 1 \\\\\n",
    " 3x_1 + 2x_2 + 8x_3 + x_4 = -7 \\\\\n",
    " x_1 + 3x_4 = 0 \\\\\n",
    " 4x_2 + 2x_3 + 6x_4 = 15\n",
    "\\end {cases}\n",
    "$$\n",
    "\n",
    "c) \n",
    "\n",
    "$$\n",
    "\\begin {cases}\n",
    " 3x_1 - x_2 = 2 \\\\\n",
    " -6x_1 + 2x_2 = -4 \\\\\n",
    " x_1 + 12x_2 - 7x_3 = 54\n",
    "\\end {cases}\n",
    "$$\n"
   ]
  },
  {
   "cell_type": "code",
   "execution_count": 171,
   "id": "43e94045-b42b-4cad-bb05-e97e2dd57eb0",
   "metadata": {},
   "outputs": [
    {
     "name": "stdout",
     "output_type": "stream",
     "text": [
      "\n",
      "Matrix A:\n",
      " [[ 4  3 -5]\n",
      " [-2 -4  5]\n",
      " [ 7  8  0]\n",
      " [ 1  0  2]\n",
      " [ 9  1 -6]]\n",
      "Extended matrix Ay:\n",
      " [[ 4  3 -5  2]\n",
      " [-2 -4  5  5]\n",
      " [ 7  8  0 -3]\n",
      " [ 1  0  2  1]\n",
      " [ 9  1 -6  6]]\n",
      "Rank of A: 3\n",
      "Rank of Ay: 4\n",
      "\n",
      "Matrix A:\n",
      " [[1 2 1 3]\n",
      " [3 2 8 1]\n",
      " [1 0 0 3]\n",
      " [0 4 2 6]]\n",
      "Extended matrix Ay:\n",
      " [[ 1  2  1  3  1]\n",
      " [ 3  2  8  1 -7]\n",
      " [ 1  0  0  3  0]\n",
      " [ 0  4  2  6 15]]\n",
      "Rank of A: 4\n",
      "Rank of Ay: 4\n",
      "Number of equations n: 4\n",
      "\n",
      "Matrix A:\n",
      " [[ 3 -1  0  3]\n",
      " [-6  2  0 -6]\n",
      " [ 1 12 -7  0]]\n",
      "Extended matrix Ay:\n",
      " [[ 3 -1  0  3  2]\n",
      " [-6  2  0 -6 -4]\n",
      " [ 1 12 -7  0 54]]\n",
      "Rank of A: 2\n",
      "Rank of Ay: 2\n",
      "Number of equations n: 3\n"
     ]
    }
   ],
   "source": [
    "# Solution to Exercise 5\n",
    "import numpy as np\n",
    "from numpy.linalg import matrix_rank\n",
    "\n",
    "# (a)\n",
    "\n",
    "A = np.array([\n",
    "    [4, 3, -5],\n",
    "    [-2, -4, 5],\n",
    "    [7, 8, 0],\n",
    "    [1, 0, 2],\n",
    "    [9, 1, -6]\n",
    "])\n",
    "\n",
    "print(\"\\nMatrix A:\\n\", A)\n",
    "\n",
    "y = np.array([2, 5, -3, 1, 6])\n",
    "\n",
    "Ay = np.append(A, y.reshape(5, 1), axis=1)\n",
    "print(\"Extended matrix Ay:\\n\", Ay)\n",
    "\n",
    "rank_A = matrix_rank(A)\n",
    "print(\"Rank of A:\", rank_A)\n",
    "\n",
    "rank_Ay = matrix_rank(Ay)\n",
    "print(\"Rank of Ay:\", rank_Ay)\n",
    "\n",
    "# Answer: equation (a) has no solution, because rank(Ay) = rank(A) + 1\n",
    "\n",
    "# (b)\n",
    "\n",
    "A = np.array([\n",
    "    [1, 2, 1, 3],\n",
    "    [3, 2, 8, 1], \n",
    "    [1, 0, 0, 3],\n",
    "    [0, 4, 2, 6]\n",
    "])\n",
    "\n",
    "print(\"\\nMatrix A:\\n\", A)\n",
    "\n",
    "y = np.array([1, -7, 0, 15])\n",
    "\n",
    "Ay = np.append(A, y.reshape(4, 1), axis=1)\n",
    "print(\"Extended matrix Ay:\\n\", Ay)\n",
    "\n",
    "rank_A = matrix_rank(A)\n",
    "print(\"Rank of A:\", rank_A)\n",
    "\n",
    "rank_Ay = matrix_rank(Ay)\n",
    "print(\"Rank of Ay:\", rank_Ay)\n",
    "\n",
    "print(\"Number of equations n:\", len(A))\n",
    "\n",
    "# Answer: equation (b) has a unique solution, because rank(Ay) = rank(A) = n\n",
    "\n",
    "# (c)\n",
    "\n",
    "A = np.array([\n",
    "    [3, -1, 0, 3], \n",
    "    [-6, 2, 0, -6],\n",
    "    [1, 12, -7, 0]\n",
    "])\n",
    "\n",
    "print(\"\\nMatrix A:\\n\", A)\n",
    "\n",
    "y = np.array([2, -4, 54])\n",
    "\n",
    "Ay = np.append(A, y.reshape(3, 1), axis=1)\n",
    "print(\"Extended matrix Ay:\\n\", Ay)\n",
    "\n",
    "rank_A = matrix_rank(A)\n",
    "print(\"Rank of A:\", rank_A)\n",
    "\n",
    "rank_Ay = matrix_rank(Ay)\n",
    "print(\"Rank of Ay:\", rank_Ay)\n",
    "\n",
    "print(\"Number of equations n:\", len(A))\n",
    "\n",
    "# Answer: equation (c) has infinitely many solution, because rank(Ay) = rank(A) < n"
   ]
  },
  {
   "cell_type": "markdown",
   "id": "589d2a32",
   "metadata": {},
   "source": [
    "## 3.10 Solving Linear Equations Systems with Numpy\n",
    "\n",
    "Let's solve the linear system from the exercise 5:\n",
    "\n",
    "$$ \n",
    "\\begin {cases}\n",
    " 4x + 3y - 5z = 2   \\\\\n",
    "-x - 2y + 3z = 3  \\\\\n",
    " 8x + 2y - 2z = 3 \\\\\n",
    "\\end {cases}\n",
    "$$\n",
    "\n",
    "The number of unknowns *n=3*. The number of equations *m=3*.\n",
    "\n",
    "The first step is to write down the equation in the matrix form.\n",
    "\n",
    "The next step is to determine if the equation has a solution. (We need to find the ranks of the matrices *A* and *[A,y]*)\n",
    "\n",
    "Finally, if the solution exist we need to find it."
   ]
  },
  {
   "cell_type": "code",
   "execution_count": 172,
   "id": "28f8f7b2",
   "metadata": {},
   "outputs": [
    {
     "name": "stdout",
     "output_type": "stream",
     "text": [
      "\n",
      "Matrix A:\n",
      " [[ 4  3 -5]\n",
      " [-1 -2  3]\n",
      " [ 8  2 -2]]\n",
      "\n",
      "Rank of A: 3\n",
      "\n",
      "Vector y: [2 3 3]\n",
      "\n",
      "Matrix [A,y]:\n",
      " [[ 4  3 -5  2]\n",
      " [-1 -2  3  3]\n",
      " [ 8  2 -2  3]]\n",
      "\n",
      "The rank of Ay: 3\n",
      "\n",
      "Conclusion: the rank(A) = rank(Ay) = n, hence the system has a unique solution.\n",
      "\n",
      "Solution to the system: x: [ 1.58333333 -9.91666667 -5.08333333]\n",
      "\n",
      "Test: A * x = [2. 3. 3.]\n"
     ]
    }
   ],
   "source": [
    "# Solving Linear Equations System\n",
    "\n",
    "import numpy as np\n",
    "from numpy.linalg import solve, matrix_rank\n",
    "\n",
    "# Matrix A\n",
    "\n",
    "A = np.array([\n",
    "    [4, 3, -5],\n",
    "    [-1, -2, 3],\n",
    "    [8, 2, -2], \n",
    "])\n",
    "print(\"\\nMatrix A:\\n\", A)\n",
    "\n",
    "arank = matrix_rank(A)\n",
    "print(\"\\nRank of A:\", arank)\n",
    "\n",
    "y = np.array([2, 3, 3])\n",
    "print(\"\\nVector y:\", y)\n",
    "\n",
    "# Matrix [A, y]\n",
    "Ay = np.append(A, y.reshape(len(y), 1), axis=1)\n",
    "\n",
    "print(\"\\nMatrix [A,y]:\\n\", Ay)\n",
    "\n",
    "ayrank = matrix_rank(Ay)\n",
    "print(\"\\nThe rank of Ay:\", ayrank)\n",
    "\n",
    "if arank == ayrank and arank == len(A):\n",
    "    print(\"\\nConclusion: the rank(A) = rank(Ay) = n, hence the system has a unique solution.\")\n",
    "\n",
    "    # Solving the linear equations system\n",
    "    x = solve(A, y)\n",
    "    \n",
    "    print(\"\\nSolution to the system: x:\", x)\n",
    "    \n",
    "    # Testing the solution, Ax should be equal to y\n",
    "    Ax = np.dot(A, x)\n",
    "    print(\"\\nTest: A * x =\", Ax)"
   ]
  },
  {
   "cell_type": "markdown",
   "id": "ebd3636f",
   "metadata": {},
   "source": [
    "## Exercise 6"
   ]
  },
  {
   "cell_type": "markdown",
   "id": "ec514995",
   "metadata": {},
   "source": [
    "a) Show that the system has a unique solution:\n",
    "    \n",
    "$$\n",
    "\\begin {cases}\n",
    "4x_1 + 3x_2 - 5x_3 = 2 \\\\\n",
    "-2x_1 - 4x_2 + 5x_3 = 5 \\\\\n",
    "8x_1 + 8x_2 = -3\n",
    "\\end {cases}\n",
    "$$\n",
    "\n",
    "b) Solve the linear equations system"
   ]
  },
  {
   "cell_type": "code",
   "execution_count": 173,
   "id": "71fdcf67-c709-4086-96b8-e21b74dabc01",
   "metadata": {},
   "outputs": [
    {
     "name": "stdout",
     "output_type": "stream",
     "text": [
      "\n",
      "Matrix A:\n",
      " [[ 4  3 -5]\n",
      " [-2 -4  5]\n",
      " [ 8  8  0]]\n",
      "\n",
      "Rank of A: 3\n",
      "\n",
      "Vector y: [ 2  5 -3]\n",
      "\n",
      "Matrix [A,y]:\n",
      " [[ 4  3 -5  2]\n",
      " [-2 -4  5  5]\n",
      " [ 8  8  0 -3]]\n",
      "\n",
      "The rank of Ay: 3\n",
      "\n",
      "Conclusion: the rank(A) = rank(Ay) = n, hence the system has a unique solution.\n",
      "\n",
      "Solution to the system: x: [ 2.20833333 -2.58333333 -0.18333333]\n",
      "\n",
      "Test: A * x = [ 2.  5. -3.]\n"
     ]
    }
   ],
   "source": [
    "# Solution to Exercise 6\n",
    "\n",
    "import numpy as np\n",
    "from numpy.linalg import solve, matrix_rank\n",
    "\n",
    "# Matrix A\n",
    "\n",
    "A = np.array([\n",
    "    [4, 3, -5],\n",
    "    [-2, -4, 5],\n",
    "    [8, 8, 0], \n",
    "])\n",
    "print(\"\\nMatrix A:\\n\", A)\n",
    "\n",
    "arank = matrix_rank(A)\n",
    "print(\"\\nRank of A:\", arank)\n",
    "\n",
    "y = np.array([2, 5, -3])\n",
    "print(\"\\nVector y:\", y)\n",
    "\n",
    "# Matrix [A, y]\n",
    "Ay = np.append(A, y.reshape(len(y), 1), axis=1)\n",
    "\n",
    "print(\"\\nMatrix [A,y]:\\n\", Ay)\n",
    "\n",
    "ayrank = matrix_rank(Ay)\n",
    "print(\"\\nThe rank of Ay:\", ayrank)\n",
    "\n",
    "if arank == ayrank and arank == len(A):\n",
    "    print(\"\\nConclusion: the rank(A) = rank(Ay) = n, hence the system has a unique solution.\")\n",
    "\n",
    "    # Solving the linear equations system\n",
    "    x = solve(A, y)\n",
    "    \n",
    "    print(\"\\nSolution to the system: x:\", x)\n",
    "    \n",
    "    # Testing the solution, Ax should be equal to y\n",
    "    Ax = np.dot(A, x)\n",
    "    print(\"\\nTest: A * x =\", Ax)\n"
   ]
  },
  {
   "cell_type": "markdown",
   "id": "c4790b54",
   "metadata": {},
   "source": [
    "## Exercise 7"
   ]
  },
  {
   "cell_type": "markdown",
   "id": "c6269d45",
   "metadata": {},
   "source": [
    "a) Show that the system has a unique solution:\n",
    "\n",
    "$$\n",
    "\\begin {cases}\n",
    "    3x_1 - x_2 + 4x_3 = 2 \\\\\n",
    "    17x_1 + 2x_2 + x_3 = 14 \\\\\n",
    "    x_1 + 12x_2 + 7x_3 = 54 \\\\\n",
    "\\end {cases}\n",
    "$$\n",
    "\n",
    "b) Solve the linear equations system"
   ]
  },
  {
   "cell_type": "code",
   "execution_count": 174,
   "id": "b2e7a9ac-7f07-4cef-89af-b1a4c1ec4714",
   "metadata": {},
   "outputs": [
    {
     "name": "stdout",
     "output_type": "stream",
     "text": [
      "\n",
      "Matrix A:\n",
      " [[ 3 -1  4]\n",
      " [17  2  1]\n",
      " [ 1 12  7]]\n",
      "\n",
      "Rank of A: 3\n",
      "\n",
      "Vector y: [ 2 14 54]\n",
      "\n",
      "Matrix [A,y]:\n",
      " [[ 3 -1  4  2]\n",
      " [17  2  1 14]\n",
      " [ 1 12  7 54]]\n",
      "\n",
      "The rank of Ay: 3\n",
      "\n",
      "Conclusion: the rank(A) = rank(Ay) = n, hence the system has a unique solution.\n",
      "\n",
      "Solution to the system: x: [0.30901288 3.76824034 1.21030043]\n",
      "\n",
      "Test: A * x = [ 2. 14. 54.]\n"
     ]
    }
   ],
   "source": [
    "import numpy as np\n",
    "from numpy.linalg import solve, matrix_rank\n",
    "\n",
    "# Matrix A\n",
    "\n",
    "A = np.array([\n",
    "    [3, -1, 4],\n",
    "    [17, 2, 1],\n",
    "    [1, 12, 7], \n",
    "])\n",
    "print(\"\\nMatrix A:\\n\", A)\n",
    "\n",
    "arank = matrix_rank(A)\n",
    "print(\"\\nRank of A:\", arank)\n",
    "\n",
    "y = np.array([2, 14, 54])\n",
    "print(\"\\nVector y:\", y)\n",
    "\n",
    "# Matrix [A, y]\n",
    "Ay = np.append(A, y.reshape(len(y), 1), axis=1)\n",
    "\n",
    "print(\"\\nMatrix [A,y]:\\n\", Ay)\n",
    "\n",
    "ayrank = matrix_rank(Ay)\n",
    "print(\"\\nThe rank of Ay:\", ayrank)\n",
    "\n",
    "if arank == ayrank and arank == len(A):\n",
    "    print(\"\\nConclusion: the rank(A) = rank(Ay) = n, hence the system has a unique solution.\")\n",
    "\n",
    "    # Solving the linear equations system\n",
    "    x = solve(A, y)\n",
    "    \n",
    "    print(\"\\nSolution to the system: x:\", x)\n",
    "    \n",
    "    # Testing the solution, Ax should be equal to y\n",
    "    Ax = np.dot(A, x)\n",
    "    print(\"\\nTest: A * x =\", Ax)"
   ]
  },
  {
   "cell_type": "code",
   "execution_count": null,
   "id": "24ad65a0-95f7-44c3-a46a-8d727687e048",
   "metadata": {},
   "outputs": [],
   "source": []
  }
 ],
 "metadata": {
  "kernelspec": {
   "display_name": "Python 3 (ipykernel)",
   "language": "python",
   "name": "python3"
  },
  "language_info": {
   "codemirror_mode": {
    "name": "ipython",
    "version": 3
   },
   "file_extension": ".py",
   "mimetype": "text/x-python",
   "name": "python",
   "nbconvert_exporter": "python",
   "pygments_lexer": "ipython3",
   "version": "3.10.12"
  }
 },
 "nbformat": 4,
 "nbformat_minor": 5
}
